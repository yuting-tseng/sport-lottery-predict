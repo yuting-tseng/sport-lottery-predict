{
 "cells": [
  {
   "cell_type": "code",
   "execution_count": 12,
   "metadata": {},
   "outputs": [],
   "source": [
    "from bs4 import BeautifulSoup\n",
    "import urllib\n",
    "import pandas as pd"
   ]
  },
  {
   "cell_type": "code",
   "execution_count": 80,
   "metadata": {},
   "outputs": [],
   "source": [
    "date = '20190907'\n",
    "url = 'https://www.playsport.cc/predictgame.php?action=scale&allianceid=2&gametime={}&sid=0'.format(date)\n",
    "page = urllib.request.urlopen(url)\n",
    "\n",
    "soup = BeautifulSoup(page)"
   ]
  },
  {
   "cell_type": "code",
   "execution_count": 176,
   "metadata": {},
   "outputs": [],
   "source": [
    "def findClass(data, element, _class=None):\n",
    "    if _class:\n",
    "        return data.find_all(element, attrs={'class': _class})\n",
    "    return data.find_all(element)\n",
    "\n",
    "def get_scores(text):\n",
    "    for game in text.find_all('td', attrs={'class' : 'scores'}):\n",
    "        host_score = int(game.find_all('li')[0].text.strip())\n",
    "        guest_score = int(game.find_all('li')[2].text.strip())\n",
    "        yield host_score, guest_score\n",
    "        \n",
    "def get_rates(soup):\n",
    "    for game in findClass(soup, 'tr', 'game-set'):\n",
    "        for data in findClass(game, 'td', re.compile('td-bank-bet\\d')):\n",
    "            for rate in findClass(data, 'span', re.compile('data-wrap')):\n",
    "                yield findClass(rate, 'strong')[0].string, findClass(rate, 'span')[0].string.replace(', ', '').strip()\n",
    "                \n",
    "                "
   ]
  },
  {
   "cell_type": "code",
   "execution_count": 262,
   "metadata": {},
   "outputs": [],
   "source": [
    "class Game:\n",
    "    def __init__(self, soup_even, soup_odd):\n",
    "        self._home_score, self._guest_score = self.GetScores(soup_even)\n",
    "        self._home_line, self._guest_line = self.GetBettingLine(soup_even), self.GetBettingLine(soup_odd)\n",
    "\n",
    "    def GetScores(self, soup):\n",
    "        ho_score = int(soup.find_all('li')[0].text.strip())\n",
    "        guest_score = int(soup.find_all('li')[2].text.strip())\n",
    "        return home_score, guest_score\n",
    "    \n",
    "    def GetBettingLine(self, soup):\n",
    "        odds_str = soup.find_all('td', attrs={'class' : re.compile('td-bank-bet03')})[0]\n",
    "        return float(odd_str.find_all('span')[1].text)"
   ]
  },
  {
   "cell_type": "code",
   "execution_count": 263,
   "metadata": {},
   "outputs": [],
   "source": [
    "game_set = soup.find_all('tr', attrs={'class' : 'game-set'})\n",
    "it = iter(game_set)\n",
    "slot = [Game(x, next(it)) for x in it]"
   ]
  },
  {
   "cell_type": "code",
   "execution_count": 268,
   "metadata": {},
   "outputs": [
    {
     "data": {
      "text/plain": [
       "1.8"
      ]
     },
     "execution_count": 268,
     "metadata": {},
     "output_type": "execute_result"
    }
   ],
   "source": [
    "slot[0]._guest_line"
   ]
  },
  {
   "cell_type": "code",
   "execution_count": null,
   "metadata": {},
   "outputs": [],
   "source": []
  },
  {
   "cell_type": "code",
   "execution_count": null,
   "metadata": {},
   "outputs": [],
   "source": []
  }
 ],
 "metadata": {
  "kernelspec": {
   "display_name": "Python 3",
   "language": "python",
   "name": "python3"
  },
  "language_info": {
   "codemirror_mode": {
    "name": "ipython",
    "version": 3
   },
   "file_extension": ".py",
   "mimetype": "text/x-python",
   "name": "python",
   "nbconvert_exporter": "python",
   "pygments_lexer": "ipython3",
   "version": "3.5.2"
  }
 },
 "nbformat": 4,
 "nbformat_minor": 2
}
